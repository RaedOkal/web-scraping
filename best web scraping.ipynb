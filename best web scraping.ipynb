{
 "cells": [
  {
   "cell_type": "markdown",
   "metadata": {},
   "source": [
    "### The best and most accurate way to scrape web data"
   ]
  },
  {
   "cell_type": "code",
   "execution_count": 5,
   "metadata": {},
   "outputs": [],
   "source": [
    "import requests"
   ]
  },
  {
   "cell_type": "code",
   "execution_count": 2,
   "metadata": {},
   "outputs": [],
   "source": [
    "url='https://instanteduhelp.com/python-project-ideas-final-year-engineering-students/'"
   ]
  },
  {
   "cell_type": "code",
   "execution_count": 6,
   "metadata": {},
   "outputs": [],
   "source": [
    "response = requests.get(url)\n"
   ]
  },
  {
   "cell_type": "code",
   "execution_count": 7,
   "metadata": {},
   "outputs": [
    {
     "data": {
      "text/plain": [
       "200"
      ]
     },
     "execution_count": 7,
     "metadata": {},
     "output_type": "execute_result"
    }
   ],
   "source": [
    "response.status_code"
   ]
  },
  {
   "cell_type": "code",
   "execution_count": 8,
   "metadata": {},
   "outputs": [
    {
     "data": {
      "text/plain": [
       "182569"
      ]
     },
     "execution_count": 8,
     "metadata": {},
     "output_type": "execute_result"
    }
   ],
   "source": [
    "len(response.text) "
   ]
  },
  {
   "cell_type": "code",
   "execution_count": 9,
   "metadata": {},
   "outputs": [],
   "source": [
    "contents = response.text"
   ]
  },
  {
   "cell_type": "code",
   "execution_count": 10,
   "metadata": {},
   "outputs": [
    {
     "data": {
      "text/plain": [
       "'<!DOCTYPE HTML>\\r\\n<html lang=\"en-US\">\\r\\n<head><meta charset=\"UTF-8\"><script>if(navigator.userAgent.match(/MSIE|Internet Explorer/i)||navigator.userAgent.match(/Trident\\\\/7\\\\..*?rv:11/i)){var href=document.location.href;if(!href.match(/[?&]nowprocket/)){if(href.indexOf(\"?\")==-1){if(href.indexOf(\"#\")==-1){document.location.href=href+\"?nowprocket=1\"}else{document.location.href=href.replace(\"#\",\"?nowprocket=1#\")}}else{if(href.indexOf(\"#\")==-1){document.location.href=href+\"&nowprocket=1\"}else{document.location.href=href.replace(\"#\",\"&nowprocket=1#\")}}}}</script><script>class RocketLazyLoadScripts{constructor(){this.triggerEvents=[\"keydown\",\"mousedown\",\"mousemove\",\"touchmove\",\"touchstart\",\"touchend\",\"wheel\"],this.userEventHandler=this._triggerListener.bind(this),this.touchStartHandler=this._onTouchStart.bind(this),this.touchMoveHandler=this._onTouchMove.bind(this),this.touchEndHandler=this._onTouchEnd.bind(this),this.clickHandler=this._onClick.bind(this),this.interceptedClicks=[],window.addEvent'"
      ]
     },
     "execution_count": 10,
     "metadata": {},
     "output_type": "execute_result"
    }
   ],
   "source": [
    "contents[:1000]"
   ]
  },
  {
   "cell_type": "markdown",
   "metadata": {},
   "source": [
    "### Use Beautiful Soup to parse and extract information"
   ]
  },
  {
   "cell_type": "code",
   "execution_count": 11,
   "metadata": {},
   "outputs": [],
   "source": [
    "from bs4 import BeautifulSoup"
   ]
  },
  {
   "cell_type": "code",
   "execution_count": 12,
   "metadata": {},
   "outputs": [],
   "source": [
    "doc =BeautifulSoup(contents,'html.parser')"
   ]
  },
  {
   "cell_type": "markdown",
   "metadata": {},
   "source": [
    "now we can actually find things by doing query"
   ]
  },
  {
   "cell_type": "code",
   "execution_count": 33,
   "metadata": {},
   "outputs": [
    {
     "data": {
      "text/plain": [
       "[<div class=\"w-actionbox color_light controls_right\"><div class=\"w-actionbox-text\"><h5 class=\"w-actionbox-title\">Looking for Final Year Projects or someone to build a custom management system for you?</h5><div class=\"w-actionbox-description\"><p>Submit your Project and get free price quote for your Programming Homework or Assignment</p>\n",
       " </div></div><div class=\"w-actionbox-controls\"><a class=\"w-btn us-btn-style_1\" href=\"https://instanteduhelp.com/contact/\"><span class=\"w-btn-label\">Get a Free Quote</span></a></div></div>]"
      ]
     },
     "execution_count": 33,
     "metadata": {},
     "output_type": "execute_result"
    }
   ],
   "source": [
    "doc.find_all('div',{'class':'w-actionbox color_light controls_right'})"
   ]
  },
  {
   "cell_type": "code",
   "execution_count": null,
   "metadata": {},
   "outputs": [],
   "source": [
    "#<div class=\"w-actionbox color_light controls_right\"> the full father calss\n",
    "#<h5 class=\"w-actionbox-title\"> the first heder text 'chiled'\n",
    "#<div class=\"w-actionbox-description\">'chiled 2' descripstion\n",
    "#<div class=\"w-actionbox-controls\"> the boton link \n"
   ]
  },
  {
   "cell_type": "code",
   "execution_count": 34,
   "metadata": {},
   "outputs": [],
   "source": [
    "Container=doc.find_all('div',{'class':'w-actionbox color_light controls_right'})"
   ]
  },
  {
   "cell_type": "code",
   "execution_count": 35,
   "metadata": {},
   "outputs": [
    {
     "data": {
      "text/plain": [
       "[<h5 class=\"w-actionbox-title\">Looking for Final Year Projects or someone to build a custom management system for you?</h5>]"
      ]
     },
     "execution_count": 35,
     "metadata": {},
     "output_type": "execute_result"
    }
   ],
   "source": [
    "h1=doc.find_all('h5',{'class':'w-actionbox-title'})\n",
    "h1"
   ]
  },
  {
   "cell_type": "code",
   "execution_count": 42,
   "metadata": {},
   "outputs": [
    {
     "data": {
      "text/plain": [
       "'Looking for Final Year Projects or someone to build a custom management system for you?'"
      ]
     },
     "execution_count": 42,
     "metadata": {},
     "output_type": "execute_result"
    }
   ],
   "source": [
    "#test\n",
    "h1[0].text.strip()"
   ]
  },
  {
   "cell_type": "code",
   "execution_count": 36,
   "metadata": {},
   "outputs": [
    {
     "data": {
      "text/plain": [
       "[<div class=\"w-actionbox-description\"><p>Submit your Project and get free price quote for your Programming Homework or Assignment</p>\n",
       " </div>]"
      ]
     },
     "execution_count": 36,
     "metadata": {},
     "output_type": "execute_result"
    }
   ],
   "source": [
    "h2=doc.find_all('div',{'class':'w-actionbox-description'})\n",
    "h2"
   ]
  },
  {
   "cell_type": "code",
   "execution_count": 46,
   "metadata": {},
   "outputs": [
    {
     "data": {
      "text/plain": [
       "[<span class=\"w-btn-label\">Get a Free Quote</span>,\n",
       " <span class=\"w-btn-label\">Post Comment</span>]"
      ]
     },
     "execution_count": 46,
     "metadata": {},
     "output_type": "execute_result"
    }
   ],
   "source": [
    "h3=doc.find_all('span',{'class':'w-btn-label'})\n",
    "h3"
   ]
  },
  {
   "cell_type": "code",
   "execution_count": 53,
   "metadata": {},
   "outputs": [
    {
     "data": {
      "text/plain": [
       "<a class=\"w-btn us-btn-style_1\" href=\"https://instanteduhelp.com/contact/\"><span class=\"w-btn-label\">Get a Free Quote</span></a>"
      ]
     },
     "execution_count": 53,
     "metadata": {},
     "output_type": "execute_result"
    }
   ],
   "source": [
    "link=doc.find_all('a',{'class':'w-btn us-btn-style_1'})\n",
    "link[0]"
   ]
  },
  {
   "cell_type": "code",
   "execution_count": 30,
   "metadata": {},
   "outputs": [
    {
     "name": "stdout",
     "output_type": "stream",
     "text": [
      "Looking for Final Year Projects or someone to build a custom management system for you?\n"
     ]
    }
   ],
   "source": [
    "for i in Container :\n",
    "    H1=i.find_all('h5',{\"class\":\"w-actionbox-title\"})\n",
    "    hader_titel=H1[0].text.strip() \n",
    "    print(hader_titel)"
   ]
  },
  {
   "cell_type": "code",
   "execution_count": 55,
   "metadata": {},
   "outputs": [
    {
     "name": "stdout",
     "output_type": "stream",
     "text": [
      "Looking for Final Year Projects or someone to build a custom management system for you?\n",
      " Submit your Project and get free price quote for your Programming Homework or Assignment\n",
      " Get a Free Quote\n",
      "https://instanteduhelp.com/contact/\n"
     ]
    }
   ],
   "source": [
    "for i in Container:\n",
    "    header=h1[0].text.strip()\n",
    "    description=h2[0].text.strip()\n",
    "    button=h3[0].text.strip()\n",
    "    button_link=link[0]['href']\n",
    "    print(header+'\\n '+description+'\\n '+button+'\\n'+button_link)\n",
    "\n",
    "    #f.write(job_titel+', '+company_name+', '+job_type+'\\n')"
   ]
  }
 ],
 "metadata": {
  "kernelspec": {
   "display_name": "Python 3.10.4 64-bit",
   "language": "python",
   "name": "python3"
  },
  "language_info": {
   "codemirror_mode": {
    "name": "ipython",
    "version": 3
   },
   "file_extension": ".py",
   "mimetype": "text/x-python",
   "name": "python",
   "nbconvert_exporter": "python",
   "pygments_lexer": "ipython3",
   "version": "3.10.4"
  },
  "orig_nbformat": 4,
  "vscode": {
   "interpreter": {
    "hash": "9677b04aa48d3d5e628c90dc42a5496ce4dd0e854300188d092aefe987e73260"
   }
  }
 },
 "nbformat": 4,
 "nbformat_minor": 2
}
